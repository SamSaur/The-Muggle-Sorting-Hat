{
 "cells": [
  {
   "cell_type": "markdown",
   "id": "d09a5ef3",
   "metadata": {},
   "source": [
    "# K-means clustering"
   ]
  },
  {
   "cell_type": "markdown",
   "id": "18c8c9cb",
   "metadata": {},
   "source": [
    "## Exploratory data analysis: mall customer segmentation data (kaggle)"
   ]
  },
  {
   "cell_type": "code",
   "execution_count": 6,
   "id": "0b4ee3b4",
   "metadata": {},
   "outputs": [
    {
     "data": {
      "text/html": [
       "<div>\n",
       "<style scoped>\n",
       "    .dataframe tbody tr th:only-of-type {\n",
       "        vertical-align: middle;\n",
       "    }\n",
       "\n",
       "    .dataframe tbody tr th {\n",
       "        vertical-align: top;\n",
       "    }\n",
       "\n",
       "    .dataframe thead th {\n",
       "        text-align: right;\n",
       "    }\n",
       "</style>\n",
       "<table border=\"1\" class=\"dataframe\">\n",
       "  <thead>\n",
       "    <tr style=\"text-align: right;\">\n",
       "      <th></th>\n",
       "      <th>Name</th>\n",
       "      <th>Gender</th>\n",
       "      <th>Age</th>\n",
       "      <th>District</th>\n",
       "      <th>Friend 1</th>\n",
       "      <th>Friend 2</th>\n",
       "    </tr>\n",
       "  </thead>\n",
       "  <tbody>\n",
       "    <tr>\n",
       "      <th>0</th>\n",
       "      <td>BettyAllison</td>\n",
       "      <td>female</td>\n",
       "      <td>10</td>\n",
       "      <td>Pandora</td>\n",
       "      <td>MollyMeer</td>\n",
       "      <td>JessicaZebra</td>\n",
       "    </tr>\n",
       "    <tr>\n",
       "      <th>1</th>\n",
       "      <td>PeterAlexs</td>\n",
       "      <td>male</td>\n",
       "      <td>10</td>\n",
       "      <td>Limsa</td>\n",
       "      <td>G�ntherCohl</td>\n",
       "      <td>CeasarFeige</td>\n",
       "    </tr>\n",
       "    <tr>\n",
       "      <th>2</th>\n",
       "      <td>GregorAllmann</td>\n",
       "      <td>male</td>\n",
       "      <td>11</td>\n",
       "      <td>Pandora</td>\n",
       "      <td>BertEdamer</td>\n",
       "      <td>CeasarFeige</td>\n",
       "    </tr>\n",
       "    <tr>\n",
       "      <th>3</th>\n",
       "      <td>TiffanyBecks</td>\n",
       "      <td>female</td>\n",
       "      <td>10</td>\n",
       "      <td>Pandora</td>\n",
       "      <td>AllyInka</td>\n",
       "      <td>SallyBrot</td>\n",
       "    </tr>\n",
       "    <tr>\n",
       "      <th>4</th>\n",
       "      <td>SallyBrot</td>\n",
       "      <td>female</td>\n",
       "      <td>10</td>\n",
       "      <td>Limsa</td>\n",
       "      <td>TiffanyBecks</td>\n",
       "      <td>BettyAllison</td>\n",
       "    </tr>\n",
       "  </tbody>\n",
       "</table>\n",
       "</div>"
      ],
      "text/plain": [
       "            Name  Gender  Age District      Friend 1      Friend 2\n",
       "0   BettyAllison  female   10  Pandora     MollyMeer  JessicaZebra\n",
       "1     PeterAlexs    male   10    Limsa   G�ntherCohl   CeasarFeige\n",
       "2  GregorAllmann    male   11  Pandora    BertEdamer   CeasarFeige\n",
       "3   TiffanyBecks  female   10  Pandora      AllyInka     SallyBrot\n",
       "4      SallyBrot  female   10    Limsa  TiffanyBecks  BettyAllison"
      ]
     },
     "execution_count": 6,
     "metadata": {},
     "output_type": "execute_result"
    }
   ],
   "source": [
    "import pandas as pd\n",
    "import numpy as np\n",
    "import matplotlib.pyplot as plt\n",
    "%matplotlib inline\n",
    "import seaborn as sns\n",
    "\n",
    "df1 = pd.read_csv(\"The Muggle Sorting Hat DataSet.csv\")\n",
    "df1[\"Gender\"] = df1[\"Gender\"].str.replace(\" \", \"\")\n",
    "df1[\"District\"] = df1[\"District\"].str.replace(\" \", \"\")\n",
    "df1[\"Name\"] = df1[\"Name\"].str.replace(\" \", \"\")\n",
    "df1[\"Friend 1\"] = df1[\"Friend 1\"].str.replace(\" \", \"\")\n",
    "df1[\"Friend 2 \"] = df1[\"Friend 2 \"].str.replace(\" \", \"\")\n",
    "df1.rename(columns = {\"Friend 2 \":\"Friend 2\"}, inplace = True)\n",
    "df1.head()"
   ]
  },
  {
   "cell_type": "code",
   "execution_count": 7,
   "id": "28d22429",
   "metadata": {},
   "outputs": [],
   "source": [
    "#df1.rename(columns = {\"Annual Income (k$)\":\"Income\", \"Spending Score (1-100)\":\"Spending Score\"}, inplace = True)\n",
    "#df1.head()"
   ]
  },
  {
   "cell_type": "code",
   "execution_count": 8,
   "id": "67c39e57",
   "metadata": {},
   "outputs": [
    {
     "data": {
      "text/html": [
       "<div>\n",
       "<style scoped>\n",
       "    .dataframe tbody tr th:only-of-type {\n",
       "        vertical-align: middle;\n",
       "    }\n",
       "\n",
       "    .dataframe tbody tr th {\n",
       "        vertical-align: top;\n",
       "    }\n",
       "\n",
       "    .dataframe thead th {\n",
       "        text-align: right;\n",
       "    }\n",
       "</style>\n",
       "<table border=\"1\" class=\"dataframe\">\n",
       "  <thead>\n",
       "    <tr style=\"text-align: right;\">\n",
       "      <th></th>\n",
       "      <th>Age</th>\n",
       "    </tr>\n",
       "  </thead>\n",
       "  <tbody>\n",
       "    <tr>\n",
       "      <th>count</th>\n",
       "      <td>80.000000</td>\n",
       "    </tr>\n",
       "    <tr>\n",
       "      <th>mean</th>\n",
       "      <td>10.112500</td>\n",
       "    </tr>\n",
       "    <tr>\n",
       "      <th>std</th>\n",
       "      <td>0.317974</td>\n",
       "    </tr>\n",
       "    <tr>\n",
       "      <th>min</th>\n",
       "      <td>10.000000</td>\n",
       "    </tr>\n",
       "    <tr>\n",
       "      <th>25%</th>\n",
       "      <td>10.000000</td>\n",
       "    </tr>\n",
       "    <tr>\n",
       "      <th>50%</th>\n",
       "      <td>10.000000</td>\n",
       "    </tr>\n",
       "    <tr>\n",
       "      <th>75%</th>\n",
       "      <td>10.000000</td>\n",
       "    </tr>\n",
       "    <tr>\n",
       "      <th>max</th>\n",
       "      <td>11.000000</td>\n",
       "    </tr>\n",
       "  </tbody>\n",
       "</table>\n",
       "</div>"
      ],
      "text/plain": [
       "             Age\n",
       "count  80.000000\n",
       "mean   10.112500\n",
       "std     0.317974\n",
       "min    10.000000\n",
       "25%    10.000000\n",
       "50%    10.000000\n",
       "75%    10.000000\n",
       "max    11.000000"
      ]
     },
     "execution_count": 8,
     "metadata": {},
     "output_type": "execute_result"
    }
   ],
   "source": [
    "df1.describe()"
   ]
  },
  {
   "cell_type": "code",
   "execution_count": 9,
   "id": "81c01a56",
   "metadata": {},
   "outputs": [
    {
     "data": {
      "text/plain": [
       "<seaborn.axisgrid.PairGrid at 0x19fd0b92190>"
      ]
     },
     "execution_count": 9,
     "metadata": {},
     "output_type": "execute_result"
    },
    {
     "data": {
      "image/png": "[encoded data removed]",
      "text/plain": [
       "<Figure size 180x180 with 2 Axes>"
      ]
     },
     "metadata": {
      "needs_background": "light"
     },
     "output_type": "display_data"
    }
   ],
   "source": [
    "sns.pairplot(df1[[\"Age\", \"District\", \"Gender\"]])"
   ]
  },
  {
   "cell_type": "code",
   "execution_count": 10,
   "id": "87534502",
   "metadata": {},
   "outputs": [
    {
     "data": {
      "text/plain": [
       "Pandora       19\n",
       "Uldah         17\n",
       "Limsa         15\n",
       "Queensdale    11\n",
       "Gridania      11\n",
       "Reach          7\n",
       "Name: District, dtype: int64"
      ]
     },
     "execution_count": 10,
     "metadata": {},
     "output_type": "execute_result"
    }
   ],
   "source": [
    "df1[\"District\"].value_counts()"
   ]
  },
  {
   "cell_type": "code",
   "execution_count": 11,
   "id": "7628fe40",
   "metadata": {},
   "outputs": [],
   "source": [
    "dic = {\"Pandora\" : \"0\", \"Uldah\" : \"1\", \"Limsa\" : \"2\", \"Queensdale\" : \"3\", \"Gridania\" : \"4\", \"Reach\" : \"5\"}\n",
    "dic2 = {\"female\" : \"0\", \"male\" : \"1\"}\n",
    "\n",
    "for old, new in dic.items():\n",
    "    df1['District'] = df1['District'].str.replace(old, new, regex=False)\n",
    "\n",
    "for old, new in dic2.items():\n",
    "    df1['Gender'] = df1['Gender'].str.replace(old, new, regex=False)\n",
    "\n",
    "df1['District'] = df1['District'].astype(int)\n",
    "df1['Gender'] = df1['Gender'].astype(int)"
   ]
  },
  {
   "cell_type": "code",
   "execution_count": 12,
   "id": "c570a76b",
   "metadata": {},
   "outputs": [
    {
     "data": {
      "text/plain": [
       "1    41\n",
       "0    39\n",
       "Name: Gender, dtype: int64"
      ]
     },
     "execution_count": 12,
     "metadata": {},
     "output_type": "execute_result"
    }
   ],
   "source": [
    "df1.head()\n",
    "df1[\"Gender\"].value_counts()"
   ]
  },
  {
   "cell_type": "markdown",
   "id": "b31480b6",
   "metadata": {},
   "source": [
    "## Clustering mall customer segmentation data"
   ]
  },
  {
   "cell_type": "code",
   "execution_count": 13,
   "id": "3b87f463",
   "metadata": {},
   "outputs": [
    {
     "data": {
      "text/plain": [
       "array([[ 7.72727273e-01,  7.27272727e-01],\n",
       "       [ 4.38888889e+00,  5.55555556e-01],\n",
       "       [ 2.33333333e+00,  1.00000000e+00],\n",
       "       [-2.22044605e-16, -1.11022302e-16],\n",
       "       [ 2.54545455e+00, -1.11022302e-16]])"
      ]
     },
     "execution_count": 13,
     "metadata": {},
     "output_type": "execute_result"
    }
   ],
   "source": [
    "import sklearn.cluster as cluster\n",
    "kmeans = cluster.KMeans(n_clusters = 5, init = \"k-means++\", random_state = 42)\n",
    "kmeans = kmeans.fit(df1[[\"District\", \"Gender\"]])\n",
    "kmeans.cluster_centers_"
   ]
  },
  {
   "cell_type": "code",
   "execution_count": 14,
   "id": "a1cd324e",
   "metadata": {},
   "outputs": [
    {
     "data": {
      "text/html": [
       "<div>\n",
       "<style scoped>\n",
       "    .dataframe tbody tr th:only-of-type {\n",
       "        vertical-align: middle;\n",
       "    }\n",
       "\n",
       "    .dataframe tbody tr th {\n",
       "        vertical-align: top;\n",
       "    }\n",
       "\n",
       "    .dataframe thead th {\n",
       "        text-align: right;\n",
       "    }\n",
       "</style>\n",
       "<table border=\"1\" class=\"dataframe\">\n",
       "  <thead>\n",
       "    <tr style=\"text-align: right;\">\n",
       "      <th></th>\n",
       "      <th>Name</th>\n",
       "      <th>Gender</th>\n",
       "      <th>Age</th>\n",
       "      <th>District</th>\n",
       "      <th>Friend 1</th>\n",
       "      <th>Friend 2</th>\n",
       "      <th>Clusters</th>\n",
       "    </tr>\n",
       "  </thead>\n",
       "  <tbody>\n",
       "    <tr>\n",
       "      <th>0</th>\n",
       "      <td>BettyAllison</td>\n",
       "      <td>0</td>\n",
       "      <td>10</td>\n",
       "      <td>0</td>\n",
       "      <td>MollyMeer</td>\n",
       "      <td>JessicaZebra</td>\n",
       "      <td>3</td>\n",
       "    </tr>\n",
       "    <tr>\n",
       "      <th>1</th>\n",
       "      <td>PeterAlexs</td>\n",
       "      <td>1</td>\n",
       "      <td>10</td>\n",
       "      <td>2</td>\n",
       "      <td>G�ntherCohl</td>\n",
       "      <td>CeasarFeige</td>\n",
       "      <td>2</td>\n",
       "    </tr>\n",
       "    <tr>\n",
       "      <th>2</th>\n",
       "      <td>GregorAllmann</td>\n",
       "      <td>1</td>\n",
       "      <td>11</td>\n",
       "      <td>0</td>\n",
       "      <td>BertEdamer</td>\n",
       "      <td>CeasarFeige</td>\n",
       "      <td>0</td>\n",
       "    </tr>\n",
       "    <tr>\n",
       "      <th>3</th>\n",
       "      <td>TiffanyBecks</td>\n",
       "      <td>0</td>\n",
       "      <td>10</td>\n",
       "      <td>0</td>\n",
       "      <td>AllyInka</td>\n",
       "      <td>SallyBrot</td>\n",
       "      <td>3</td>\n",
       "    </tr>\n",
       "    <tr>\n",
       "      <th>4</th>\n",
       "      <td>SallyBrot</td>\n",
       "      <td>0</td>\n",
       "      <td>10</td>\n",
       "      <td>2</td>\n",
       "      <td>TiffanyBecks</td>\n",
       "      <td>BettyAllison</td>\n",
       "      <td>4</td>\n",
       "    </tr>\n",
       "    <tr>\n",
       "      <th>5</th>\n",
       "      <td>NancyClick</td>\n",
       "      <td>0</td>\n",
       "      <td>11</td>\n",
       "      <td>1</td>\n",
       "      <td>ZoeJutter</td>\n",
       "      <td>AmandaFredericks</td>\n",
       "      <td>0</td>\n",
       "    </tr>\n",
       "    <tr>\n",
       "      <th>6</th>\n",
       "      <td>G�ntherCohl</td>\n",
       "      <td>1</td>\n",
       "      <td>10</td>\n",
       "      <td>1</td>\n",
       "      <td>CeasarFeige</td>\n",
       "      <td>PeterAlexs</td>\n",
       "      <td>0</td>\n",
       "    </tr>\n",
       "    <tr>\n",
       "      <th>7</th>\n",
       "      <td>JohnnyCedar</td>\n",
       "      <td>1</td>\n",
       "      <td>10</td>\n",
       "      <td>4</td>\n",
       "      <td>MarvinGeige</td>\n",
       "      <td>LeoJackson</td>\n",
       "      <td>1</td>\n",
       "    </tr>\n",
       "    <tr>\n",
       "      <th>8</th>\n",
       "      <td>MathildaDamm</td>\n",
       "      <td>0</td>\n",
       "      <td>10</td>\n",
       "      <td>2</td>\n",
       "      <td>YuleHoffnung</td>\n",
       "      <td>ZoeJutter</td>\n",
       "      <td>4</td>\n",
       "    </tr>\n",
       "    <tr>\n",
       "      <th>9</th>\n",
       "      <td>BertEdamer</td>\n",
       "      <td>1</td>\n",
       "      <td>10</td>\n",
       "      <td>1</td>\n",
       "      <td>PeterAlexs</td>\n",
       "      <td>G�ntherCohl</td>\n",
       "      <td>0</td>\n",
       "    </tr>\n",
       "  </tbody>\n",
       "</table>\n",
       "</div>"
      ],
      "text/plain": [
       "            Name  Gender  Age  District      Friend 1          Friend 2  \\\n",
       "0   BettyAllison       0   10         0     MollyMeer      JessicaZebra   \n",
       "1     PeterAlexs       1   10         2   G�ntherCohl       CeasarFeige   \n",
       "2  GregorAllmann       1   11         0    BertEdamer       CeasarFeige   \n",
       "3   TiffanyBecks       0   10         0      AllyInka         SallyBrot   \n",
       "4      SallyBrot       0   10         2  TiffanyBecks      BettyAllison   \n",
       "5     NancyClick       0   11         1     ZoeJutter  AmandaFredericks   \n",
       "6    G�ntherCohl       1   10         1   CeasarFeige        PeterAlexs   \n",
       "7    JohnnyCedar       1   10         4   MarvinGeige        LeoJackson   \n",
       "8   MathildaDamm       0   10         2  YuleHoffnung         ZoeJutter   \n",
       "9     BertEdamer       1   10         1    PeterAlexs       G�ntherCohl   \n",
       "\n",
       "   Clusters  \n",
       "0         3  \n",
       "1         2  \n",
       "2         0  \n",
       "3         3  \n",
       "4         4  \n",
       "5         0  \n",
       "6         0  \n",
       "7         1  \n",
       "8         4  \n",
       "9         0  "
      ]
     },
     "execution_count": 14,
     "metadata": {},
     "output_type": "execute_result"
    }
   ],
   "source": [
    "df1[\"Clusters\"] = kmeans.labels_\n",
    "df1.head(10)"
   ]
  },
  {
   "cell_type": "code",
   "execution_count": 15,
   "id": "68196567",
   "metadata": {},
   "outputs": [
    {
     "data": {
      "text/plain": [
       "0    22\n",
       "1    18\n",
       "2    15\n",
       "3    14\n",
       "4    11\n",
       "Name: Clusters, dtype: int64"
      ]
     },
     "execution_count": 15,
     "metadata": {},
     "output_type": "execute_result"
    }
   ],
   "source": [
    "df1[\"Clusters\"].value_counts()"
   ]
  },
  {
   "cell_type": "code",
   "execution_count": 16,
   "id": "92d6b9d6",
   "metadata": {},
   "outputs": [
    {
     "data": {
      "text/plain": [
       "<AxesSubplot:xlabel='Age', ylabel='District'>"
      ]
     },
     "execution_count": 16,
     "metadata": {},
     "output_type": "execute_result"
    },
    {
     "data": {
      "image/png": "[encoded data removed]",
      "text/plain": [
       "<Figure size 432x288 with 1 Axes>"
      ]
     },
     "metadata": {
      "needs_background": "light"
     },
     "output_type": "display_data"
    }
   ],
   "source": [
    "sns.scatterplot(data = df1, x = \"Age\", y = \"District\", hue = \"Clusters\", palette = \"Set2\")"
   ]
  },
  {
   "cell_type": "markdown",
   "id": "68f1dc77",
   "metadata": {},
   "source": [
    "## Creating diverse customer groups"
   ]
  },
  {
   "cell_type": "code",
   "execution_count": 17,
   "id": "f4361df9",
   "metadata": {},
   "outputs": [
    {
     "data": {
      "text/plain": [
       "'\\nFirst function creates list a of clustered dataframes (one df per cluster); second function takes list a,\\nsplits clustered dataframes into required number of diverse groups (splits) and adds them to list b; third function \\ncombines splitted dataframes in list b into new (diverse) dataframes and adds them to list c.\\n'"
      ]
     },
     "execution_count": 17,
     "metadata": {},
     "output_type": "execute_result"
    }
   ],
   "source": [
    "\"\"\"\n",
    "First function creates list a of clustered dataframes (one df per cluster); second function takes list a,\n",
    "splits clustered dataframes into required number of diverse groups (splits) and adds them to list b; third function \n",
    "combines splitted dataframes in list b into new (diverse) dataframes and adds them to list c.\n",
    "\"\"\"\n",
    "#from functools import reduce\n",
    "\n",
    "#def create_clustered_dataframes(df):\n",
    "    #dataframes = []\n",
    "    #for i in df.Clusters.unique():\n",
    "        #temporary_df = df[df[\"Clusters\"] == i]\n",
    "        #dataframes.append(temporary_df)\n",
    "    #return dataframes\n",
    "\n",
    "#clustered_dataframes = create_clustered_dataframes(df1)\n",
    "#clustered_dataframes[0]\n"
   ]
  },
  {
   "cell_type": "code",
   "execution_count": 18,
   "id": "09bd4037",
   "metadata": {},
   "outputs": [
    {
     "ename": "NameError",
     "evalue": "name 'clustered_dataframes' is not defined",
     "output_type": "error",
     "traceback": [
      "\u001b[1;31m---------------------------------------------------------------------------\u001b[0m",
      "\u001b[1;31mNameError\u001b[0m                                 Traceback (most recent call last)",
      "\u001b[1;32m<ipython-input-18-a18692fa7c3b>\u001b[0m in \u001b[0;36m<module>\u001b[1;34m\u001b[0m\n\u001b[0;32m     12\u001b[0m     \u001b[1;32mreturn\u001b[0m \u001b[0mdataframes_split\u001b[0m\u001b[1;33m\u001b[0m\u001b[1;33m\u001b[0m\u001b[0m\n\u001b[0;32m     13\u001b[0m \u001b[1;33m\u001b[0m\u001b[0m\n\u001b[1;32m---> 14\u001b[1;33m \u001b[0msplit_clustered_dataframes\u001b[0m \u001b[1;33m=\u001b[0m \u001b[0msplit_dataframes\u001b[0m\u001b[1;33m(\u001b[0m\u001b[0mclustered_dataframes\u001b[0m\u001b[1;33m,\u001b[0m \u001b[1;36m4\u001b[0m\u001b[1;33m)\u001b[0m\u001b[1;33m\u001b[0m\u001b[1;33m\u001b[0m\u001b[0m\n\u001b[0m\u001b[0;32m     15\u001b[0m \u001b[0msplit_clustered_dataframes\u001b[0m\u001b[1;33m[\u001b[0m\u001b[1;36m0\u001b[0m\u001b[1;33m]\u001b[0m\u001b[1;33m\u001b[0m\u001b[1;33m\u001b[0m\u001b[0m\n",
      "\u001b[1;31mNameError\u001b[0m: name 'clustered_dataframes' is not defined"
     ]
    }
   ],
   "source": [
    "def split_dataframes(clustered_list, splits):\n",
    "    dataframes_split = []\n",
    "    for i in clustered_list: \n",
    "        index_to_split = (-(-len(i)//splits))\n",
    "        start = 0\n",
    "        end = index_to_split\n",
    "        for split in range(splits):\n",
    "            temporary_df = i.iloc[start:end, :]\n",
    "            dataframes_split.append(temporary_df)\n",
    "            start += index_to_split\n",
    "            end += index_to_split\n",
    "    return dataframes_split\n",
    "\n",
    "split_clustered_dataframes = split_dataframes(clustered_dataframes, 4)\n",
    "split_clustered_dataframes[0]"
   ]
  },
  {
   "cell_type": "code",
   "execution_count": 19,
   "id": "cd88ef7c",
   "metadata": {},
   "outputs": [
    {
     "ename": "NameError",
     "evalue": "name 'split_clustered_dataframes' is not defined",
     "output_type": "error",
     "traceback": [
      "\u001b[1;31m---------------------------------------------------------------------------\u001b[0m",
      "\u001b[1;31mNameError\u001b[0m                                 Traceback (most recent call last)",
      "\u001b[1;32m<ipython-input-19-aa3c055a8edb>\u001b[0m in \u001b[0;36m<module>\u001b[1;34m\u001b[0m\n\u001b[0;32m     14\u001b[0m     \u001b[1;32mreturn\u001b[0m \u001b[0mdataframes_diverse\u001b[0m\u001b[1;33m\u001b[0m\u001b[1;33m\u001b[0m\u001b[0m\n\u001b[0;32m     15\u001b[0m \u001b[1;33m\u001b[0m\u001b[0m\n\u001b[1;32m---> 16\u001b[1;33m \u001b[0mdiverse_groups\u001b[0m \u001b[1;33m=\u001b[0m \u001b[0mcreate_diverse_dataframes\u001b[0m\u001b[1;33m(\u001b[0m\u001b[0msplit_clustered_dataframes\u001b[0m\u001b[1;33m,\u001b[0m \u001b[1;36m5\u001b[0m\u001b[1;33m)\u001b[0m\u001b[1;33m\u001b[0m\u001b[1;33m\u001b[0m\u001b[0m\n\u001b[0m\u001b[0;32m     17\u001b[0m \u001b[0mdiverse_groups\u001b[0m\u001b[1;33m[\u001b[0m\u001b[1;36m0\u001b[0m\u001b[1;33m]\u001b[0m\u001b[1;33m.\u001b[0m\u001b[0mhead\u001b[0m\u001b[1;33m(\u001b[0m\u001b[1;36m15\u001b[0m\u001b[1;33m)\u001b[0m\u001b[1;33m\u001b[0m\u001b[1;33m\u001b[0m\u001b[0m\n",
      "\u001b[1;31mNameError\u001b[0m: name 'split_clustered_dataframes' is not defined"
     ]
    }
   ],
   "source": [
    "\"\"\"\n",
    "Splits in split_dataframes_by_position has to be the same as splits in create_diverse_dataframes!\n",
    "\"\"\"\n",
    "\n",
    "def create_diverse_dataframes(split_list, splits):\n",
    "    dataframes_diverse = []\n",
    "    start = 0\n",
    "    for split in range(splits):        \n",
    "        if start <= splits - 1:\n",
    "            new_dataframe_as_list = split_list[start::splits]\n",
    "            new_dataframe = pd.concat(new_dataframe_as_list)\n",
    "            dataframes_diverse.append(new_dataframe)\n",
    "            start += 1\n",
    "    return dataframes_diverse    \n",
    "    \n",
    "diverse_groups = create_diverse_dataframes(split_clustered_dataframes, 5)\n",
    "diverse_groups[0].head(15)"
   ]
  },
  {
   "cell_type": "markdown",
   "id": "72edb744",
   "metadata": {},
   "source": [
    "## Visualising diverse groups"
   ]
  },
  {
   "cell_type": "code",
   "execution_count": 20,
   "id": "0f0ab82c",
   "metadata": {},
   "outputs": [
    {
     "ename": "NameError",
     "evalue": "name 'diverse_groups' is not defined",
     "output_type": "error",
     "traceback": [
      "\u001b[1;31m---------------------------------------------------------------------------\u001b[0m",
      "\u001b[1;31mNameError\u001b[0m                                 Traceback (most recent call last)",
      "\u001b[1;32m<ipython-input-20-00909948b379>\u001b[0m in \u001b[0;36m<module>\u001b[1;34m\u001b[0m\n\u001b[1;32m----> 1\u001b[1;33m \u001b[0mgroup\u001b[0m \u001b[1;33m=\u001b[0m \u001b[0mdiverse_groups\u001b[0m\u001b[1;33m[\u001b[0m\u001b[1;36m0\u001b[0m\u001b[1;33m]\u001b[0m\u001b[1;33m\u001b[0m\u001b[1;33m\u001b[0m\u001b[0m\n\u001b[0m\u001b[0;32m      2\u001b[0m \u001b[1;31m#sns.scatterplot(data = group, x = \"Income\", y = \"Spending Score\", hue = \"Clusters\", palette = \"Set2\")\u001b[0m\u001b[1;33m\u001b[0m\u001b[1;33m\u001b[0m\u001b[1;33m\u001b[0m\u001b[0m\n",
      "\u001b[1;31mNameError\u001b[0m: name 'diverse_groups' is not defined"
     ]
    }
   ],
   "source": [
    "group = diverse_groups[0]\n",
    "#sns.scatterplot(data = group, x = \"Income\", y = \"Spending Score\", hue = \"Clusters\", palette = \"Set2\")"
   ]
  },
  {
   "cell_type": "code",
   "execution_count": 21,
   "id": "6ae14483",
   "metadata": {},
   "outputs": [
    {
     "ename": "NameError",
     "evalue": "name 'diverse_groups' is not defined",
     "output_type": "error",
     "traceback": [
      "\u001b[1;31m---------------------------------------------------------------------------\u001b[0m",
      "\u001b[1;31mNameError\u001b[0m                                 Traceback (most recent call last)",
      "\u001b[1;32m<ipython-input-21-cdc77494fc1a>\u001b[0m in \u001b[0;36m<module>\u001b[1;34m\u001b[0m\n\u001b[1;32m----> 1\u001b[1;33m \u001b[1;32mfor\u001b[0m \u001b[0mgroup_temp\u001b[0m \u001b[1;32min\u001b[0m \u001b[0mdiverse_groups\u001b[0m\u001b[1;33m:\u001b[0m\u001b[1;33m\u001b[0m\u001b[1;33m\u001b[0m\u001b[0m\n\u001b[0m\u001b[0;32m      2\u001b[0m     \u001b[0mprint\u001b[0m\u001b[1;33m(\u001b[0m\u001b[0mgroup_temp\u001b[0m\u001b[1;33m[\u001b[0m\u001b[1;34m\"Clusters\"\u001b[0m\u001b[1;33m]\u001b[0m\u001b[1;33m.\u001b[0m\u001b[0mvalue_counts\u001b[0m\u001b[1;33m(\u001b[0m\u001b[1;33m)\u001b[0m\u001b[1;33m)\u001b[0m\u001b[1;33m\u001b[0m\u001b[1;33m\u001b[0m\u001b[0m\n\u001b[0;32m      3\u001b[0m     \u001b[0mprint\u001b[0m\u001b[1;33m(\u001b[0m\u001b[0mlen\u001b[0m\u001b[1;33m(\u001b[0m\u001b[0mgroup_temp\u001b[0m\u001b[1;33m)\u001b[0m\u001b[1;33m)\u001b[0m\u001b[1;33m\u001b[0m\u001b[1;33m\u001b[0m\u001b[0m\n",
      "\u001b[1;31mNameError\u001b[0m: name 'diverse_groups' is not defined"
     ]
    }
   ],
   "source": [
    "for group_temp in diverse_groups:\n",
    "    print(group_temp[\"Clusters\"].value_counts())\n",
    "    print(len(group_temp))"
   ]
  },
  {
   "cell_type": "markdown",
   "id": "331a5383",
   "metadata": {},
   "source": [
    "Problem: Groups are too different in size!"
   ]
  },
  {
   "cell_type": "markdown",
   "id": "19420308",
   "metadata": {},
   "source": [
    "## Creating diverse customer groups (different approach)"
   ]
  },
  {
   "cell_type": "code",
   "execution_count": 22,
   "id": "f2a3edbd",
   "metadata": {},
   "outputs": [
    {
     "data": {
      "text/html": [
       "<div>\n",
       "<style scoped>\n",
       "    .dataframe tbody tr th:only-of-type {\n",
       "        vertical-align: middle;\n",
       "    }\n",
       "\n",
       "    .dataframe tbody tr th {\n",
       "        vertical-align: top;\n",
       "    }\n",
       "\n",
       "    .dataframe thead th {\n",
       "        text-align: right;\n",
       "    }\n",
       "</style>\n",
       "<table border=\"1\" class=\"dataframe\">\n",
       "  <thead>\n",
       "    <tr style=\"text-align: right;\">\n",
       "      <th></th>\n",
       "      <th>Name</th>\n",
       "      <th>Gender</th>\n",
       "      <th>Age</th>\n",
       "      <th>District</th>\n",
       "      <th>Friend 1</th>\n",
       "      <th>Friend 2</th>\n",
       "      <th>Clusters</th>\n",
       "    </tr>\n",
       "  </thead>\n",
       "  <tbody>\n",
       "    <tr>\n",
       "      <th>62</th>\n",
       "      <td>IndiPyrre</td>\n",
       "      <td>1</td>\n",
       "      <td>10</td>\n",
       "      <td>0</td>\n",
       "      <td>ArnoKrys</td>\n",
       "      <td>DavePulps</td>\n",
       "      <td>0</td>\n",
       "    </tr>\n",
       "    <tr>\n",
       "      <th>37</th>\n",
       "      <td>XanderMadrigal</td>\n",
       "      <td>1</td>\n",
       "      <td>10</td>\n",
       "      <td>1</td>\n",
       "      <td>ErnestoMadrigal</td>\n",
       "      <td>BillyNozzle</td>\n",
       "      <td>0</td>\n",
       "    </tr>\n",
       "    <tr>\n",
       "      <th>36</th>\n",
       "      <td>ErnestoMadrigal</td>\n",
       "      <td>1</td>\n",
       "      <td>10</td>\n",
       "      <td>1</td>\n",
       "      <td>XanderMadrigal</td>\n",
       "      <td>KevinNicks</td>\n",
       "      <td>0</td>\n",
       "    </tr>\n",
       "    <tr>\n",
       "      <th>34</th>\n",
       "      <td>BibiLydda</td>\n",
       "      <td>0</td>\n",
       "      <td>11</td>\n",
       "      <td>1</td>\n",
       "      <td>MaxieLooks</td>\n",
       "      <td>CiciLydda</td>\n",
       "      <td>0</td>\n",
       "    </tr>\n",
       "    <tr>\n",
       "      <th>33</th>\n",
       "      <td>CiciLydda</td>\n",
       "      <td>0</td>\n",
       "      <td>10</td>\n",
       "      <td>1</td>\n",
       "      <td>BibiLydda</td>\n",
       "      <td>MaxieLooks</td>\n",
       "      <td>0</td>\n",
       "    </tr>\n",
       "  </tbody>\n",
       "</table>\n",
       "</div>"
      ],
      "text/plain": [
       "               Name  Gender  Age  District         Friend 1     Friend 2  \\\n",
       "62        IndiPyrre       1   10         0         ArnoKrys    DavePulps   \n",
       "37   XanderMadrigal       1   10         1  ErnestoMadrigal  BillyNozzle   \n",
       "36  ErnestoMadrigal       1   10         1   XanderMadrigal   KevinNicks   \n",
       "34        BibiLydda       0   11         1       MaxieLooks    CiciLydda   \n",
       "33        CiciLydda       0   10         1        BibiLydda   MaxieLooks   \n",
       "\n",
       "   Clusters  \n",
       "62        0  \n",
       "37        0  \n",
       "36        0  \n",
       "34        0  \n",
       "33        0  "
      ]
     },
     "execution_count": 22,
     "metadata": {},
     "output_type": "execute_result"
    }
   ],
   "source": [
    "def sort_dataframe(df):\n",
    "    df[\"Clusters\"] = pd.Categorical(df[\"Clusters\"], [0, 1, 2, 3, 4])\n",
    "    sorted_dataframe = df.sort_values(\"Clusters\")\n",
    "    return sorted_dataframe\n",
    "\n",
    "sort_dataframe(df1).head()"
   ]
  },
  {
   "cell_type": "markdown",
   "id": "8653a38f",
   "metadata": {},
   "source": [
    "## Keeping two customers together: merging rows before clustering\n",
    "    "
   ]
  },
  {
   "cell_type": "code",
   "execution_count": 23,
   "id": "922a9491",
   "metadata": {},
   "outputs": [],
   "source": [
    "df2 = df1.drop(\"Clusters\", axis=1)\n",
    "\n",
    "def merge_customers1(df, id1, id2):\n",
    "    customer1 = df[df[\"CustomerID\"] == id1]\n",
    "    customer2 = df[df[\"CustomerID\"] == id2]\n",
    "    customer_id = [customer1.iloc[0,0], customer2.iloc[0,0]]\n",
    "    average_age = (customer1.iloc[0,2] + customer2.iloc[0,2])/2\n",
    "    average_income = (customer1.iloc[0,3] + customer2.iloc[0,3])/2\n",
    "    average_spending_score = (customer1.iloc[0,4] + customer2.iloc[0,4])/2\n",
    "    gender = [customer1.iloc[0,1], customer2.iloc[0,1]]\n",
    "    merged_c = pd.DataFrame({\"CustomerID\": [customer_id],\n",
    "                                      \"Gender\": [gender],\n",
    "                                      \"Age\": [average_age],\n",
    "                                      \"Income\": [average_income],\n",
    "                                      \"Spending Score\": [average_spending_score]})\n",
    "    return merged_c\n",
    "\n",
    "\n",
    "#merge_customers1(df2, 1, 2)"
   ]
  },
  {
   "cell_type": "code",
   "execution_count": 24,
   "id": "50274df3",
   "metadata": {},
   "outputs": [],
   "source": [
    "def merge_customers2(df, id1, id2):\n",
    "    customer1 = df[df[\"CustomerID\"] == id1]\n",
    "    customer2 = df[df[\"CustomerID\"] == id2]\n",
    "    customer_id = [customer1.iloc[0,0], customer2.iloc[0,0]]\n",
    "    age = [customer1.iloc[0,2], customer2.iloc[0,2]]\n",
    "    income = [customer1.iloc[0,3], customer2.iloc[0,3]]\n",
    "    spending_score = [customer1.iloc[0,4], customer2.iloc[0,4]]\n",
    "    gender = [customer1.iloc[0,1], customer2.iloc[0,1]]\n",
    "    merged_c = pd.DataFrame({\"CustomerID\": [customer_id],\n",
    "                                      \"Gender\": [gender],\n",
    "                                      \"Age\": [age],\n",
    "                                      \"Income\": [income],\n",
    "                                      \"Spending Score\": [spending_score]})\n",
    "    return merged_c\n",
    "\n",
    "\n",
    "#merge_customers2(df2, 1, 200)"
   ]
  },
  {
   "cell_type": "code",
   "execution_count": 25,
   "id": "c7b9f961",
   "metadata": {},
   "outputs": [
    {
     "name": "stdout",
     "output_type": "stream",
     "text": [
      "Empty DataFrame\n",
      "Columns: []\n",
      "Index: []\n",
      "0\n"
     ]
    }
   ],
   "source": [
    "df4 = pd.DataFrame()\n",
    "#for number in range(1, 101):\n",
    "    #df_temp = df4.append(merge_customers1(df2, number, 100+number))\n",
    "    #df4 = df_temp\n",
    "print(df4)\n",
    "print(len(df4))"
   ]
  },
  {
   "cell_type": "code",
   "execution_count": 26,
   "id": "dffbe7eb",
   "metadata": {},
   "outputs": [],
   "source": [
    "#sns.pairplot(df4[[\"Age\", \"Income\", \"Spending Score\"]])"
   ]
  },
  {
   "cell_type": "markdown",
   "id": "d8daeada",
   "metadata": {},
   "source": [
    "## Clustering students based on network communities"
   ]
  },
  {
   "cell_type": "code",
   "execution_count": 38,
   "id": "accc1325",
   "metadata": {},
   "outputs": [
    {
     "data": {
      "image/png": "[encoded data removed]",
      "text/plain": [
       "<Figure size 432x288 with 1 Axes>"
      ]
     },
     "metadata": {},
     "output_type": "display_data"
    }
   ],
   "source": [
    "import networkx as nx\n",
    "  \n",
    "new_df_friends = pd.read_csv(\"new_df_friends.csv\")\n",
    "\n",
    "G_symmetric = nx.Graph()\n",
    "\n",
    "for index, row in new_df_friends.iterrows():\n",
    "    G_symmetric.add_edge(row[\"id\"], row[\"friend1\"])\n",
    "    G_symmetric.add_edge(row[\"id\"], row[\"friend2\"])\n",
    "\n",
    "nx.spring_layout(G_symmetric)\n",
    "nx.draw_networkx(G_symmetric, node_size = 25, with_labels = False)"
   ]
  },
  {
   "cell_type": "markdown",
   "id": "a2bbd00a",
   "metadata": {},
   "source": [
    "The following bit of code allows us to extract clusters/communities of people:"
   ]
  },
  {
   "cell_type": "code",
   "execution_count": 40,
   "id": "23760102",
   "metadata": {},
   "outputs": [
    {
     "data": {
      "text/plain": [
       "[2, 3, 36, 51, 94, 220, 224, 262, 268]"
      ]
     },
     "execution_count": 40,
     "metadata": {},
     "output_type": "execute_result"
    }
   ],
   "source": [
    "from networkx.algorithms.community import greedy_modularity_communities\n",
    "\n",
    "c = list(greedy_modularity_communities(G_symmetric, resolution = 10))\n",
    "\n",
    "sorted(c[0])"
   ]
  },
  {
   "cell_type": "code",
   "execution_count": 45,
   "id": "9b75a2a9",
   "metadata": {},
   "outputs": [
    {
     "data": {
      "text/html": [
       "<div>\n",
       "<style scoped>\n",
       "    .dataframe tbody tr th:only-of-type {\n",
       "        vertical-align: middle;\n",
       "    }\n",
       "\n",
       "    .dataframe tbody tr th {\n",
       "        vertical-align: top;\n",
       "    }\n",
       "\n",
       "    .dataframe thead th {\n",
       "        text-align: right;\n",
       "    }\n",
       "</style>\n",
       "<table border=\"1\" class=\"dataframe\">\n",
       "  <thead>\n",
       "    <tr style=\"text-align: right;\">\n",
       "      <th></th>\n",
       "      <th>id</th>\n",
       "      <th>number_students</th>\n",
       "      <th>gender_int</th>\n",
       "      <th>color_int</th>\n",
       "      <th>reading_int</th>\n",
       "      <th>hobby_int</th>\n",
       "      <th>language_int</th>\n",
       "      <th>introverted_int</th>\n",
       "      <th>siblings</th>\n",
       "      <th>city_int</th>\n",
       "    </tr>\n",
       "  </thead>\n",
       "  <tbody>\n",
       "    <tr>\n",
       "      <th>0</th>\n",
       "      <td>(224, 2, 3, 36, 262, 268, 51, 220, 94)</td>\n",
       "      <td>9</td>\n",
       "      <td>0.0</td>\n",
       "      <td>3.0</td>\n",
       "      <td>1.8</td>\n",
       "      <td>1.3</td>\n",
       "      <td>1.9</td>\n",
       "      <td>0.2</td>\n",
       "      <td>1.9</td>\n",
       "      <td>2.0</td>\n",
       "    </tr>\n",
       "    <tr>\n",
       "      <th>1</th>\n",
       "      <td>(64, 99, 163, 299, 81, 242, 145, 187, 126)</td>\n",
       "      <td>9</td>\n",
       "      <td>1.0</td>\n",
       "      <td>2.3</td>\n",
       "      <td>1.7</td>\n",
       "      <td>2.2</td>\n",
       "      <td>2.3</td>\n",
       "      <td>0.4</td>\n",
       "      <td>1.8</td>\n",
       "      <td>4.0</td>\n",
       "    </tr>\n",
       "    <tr>\n",
       "      <th>2</th>\n",
       "      <td>(129, 130, 171, 12, 245, 22, 87, 92)</td>\n",
       "      <td>8</td>\n",
       "      <td>1.0</td>\n",
       "      <td>2.6</td>\n",
       "      <td>1.2</td>\n",
       "      <td>1.5</td>\n",
       "      <td>1.8</td>\n",
       "      <td>0.4</td>\n",
       "      <td>2.4</td>\n",
       "      <td>0.0</td>\n",
       "    </tr>\n",
       "    <tr>\n",
       "      <th>3</th>\n",
       "      <td>(33, 205, 13, 46, 152, 217, 154, 62)</td>\n",
       "      <td>8</td>\n",
       "      <td>1.0</td>\n",
       "      <td>2.6</td>\n",
       "      <td>1.2</td>\n",
       "      <td>2.1</td>\n",
       "      <td>2.8</td>\n",
       "      <td>0.8</td>\n",
       "      <td>2.5</td>\n",
       "      <td>0.0</td>\n",
       "    </tr>\n",
       "    <tr>\n",
       "      <th>4</th>\n",
       "      <td>(39, 11, 76, 174, 143, 210, 119, 122)</td>\n",
       "      <td>8</td>\n",
       "      <td>1.0</td>\n",
       "      <td>2.1</td>\n",
       "      <td>1.8</td>\n",
       "      <td>2.6</td>\n",
       "      <td>2.4</td>\n",
       "      <td>0.6</td>\n",
       "      <td>2.2</td>\n",
       "      <td>0.0</td>\n",
       "    </tr>\n",
       "  </tbody>\n",
       "</table>\n",
       "</div>"
      ],
      "text/plain": [
       "                                           id  number_students  gender_int  \\\n",
       "0      (224, 2, 3, 36, 262, 268, 51, 220, 94)                9         0.0   \n",
       "1  (64, 99, 163, 299, 81, 242, 145, 187, 126)                9         1.0   \n",
       "2        (129, 130, 171, 12, 245, 22, 87, 92)                8         1.0   \n",
       "3        (33, 205, 13, 46, 152, 217, 154, 62)                8         1.0   \n",
       "4       (39, 11, 76, 174, 143, 210, 119, 122)                8         1.0   \n",
       "\n",
       "   color_int  reading_int  hobby_int  language_int  introverted_int  siblings  \\\n",
       "0        3.0          1.8        1.3           1.9              0.2       1.9   \n",
       "1        2.3          1.7        2.2           2.3              0.4       1.8   \n",
       "2        2.6          1.2        1.5           1.8              0.4       2.4   \n",
       "3        2.6          1.2        2.1           2.8              0.8       2.5   \n",
       "4        2.1          1.8        2.6           2.4              0.6       2.2   \n",
       "\n",
       "   city_int  \n",
       "0       2.0  \n",
       "1       4.0  \n",
       "2       0.0  \n",
       "3       0.0  \n",
       "4       0.0  "
      ]
     },
     "execution_count": 45,
     "metadata": {},
     "output_type": "execute_result"
    }
   ],
   "source": [
    "def merge_students(df, list_sets):\n",
    "    list_df = []\n",
    "    for set_students in list_sets:\n",
    "        mask = df[\"id\"].isin(set_students)\n",
    "        df_set = df.loc[mask]\n",
    "        temp_df = pd.DataFrame({\"id\": [set_students],\n",
    "                                \"number_students\": [len(set_students)],\n",
    "                                \"gender_int\": [round(df_set[\"gender_int\"].mean(), 1)],\n",
    "                                \"color_int\": [round(df_set[\"color_int\"].mean(), 1)],\n",
    "                                \"reading_int\": [round(df_set[\"reading_int\"].mean(), 1)],\n",
    "                                \"hobby_int\": [round(df_set[\"hobby_int\"].mean(), 1)],\n",
    "                                \"language_int\": [round(df_set[\"language_int\"].mean(), 1)],\n",
    "                                \"introverted_int\": [round(df_set[\"introverted_int\"].mean(), 1)],\n",
    "                                \"siblings\": [round(df_set[\"siblings\"].mean(), 1)],\n",
    "                                \"city_int\": [round(df_set[\"city_int\"].mean(), 1)]})\n",
    "        list_df.append(temp_df)\n",
    "    merged_communities = pd.concat(list_df, ignore_index=True)\n",
    "    return merged_communities\n",
    "        \n",
    "df_merged_students = merge_students(new_df_friends, c)\n",
    "df_merged_students.head()\n"
   ]
  },
  {
   "cell_type": "markdown",
   "id": "a4b9db61",
   "metadata": {},
   "source": [
    "## k-means clustering of student groups"
   ]
  },
  {
   "cell_type": "code",
   "execution_count": 61,
   "id": "0c5797c5",
   "metadata": {},
   "outputs": [
    {
     "data": {
      "text/plain": [
       "Text(0, 0.5, 'Sum of Squared Distances')"
      ]
     },
     "execution_count": 61,
     "metadata": {},
     "output_type": "execute_result"
    },
    {
     "data": {
      "image/png": "[encoded data removed]",
      "text/plain": [
       "<Figure size 432x288 with 1 Axes>"
      ]
     },
     "metadata": {
      "needs_background": "light"
     },
     "output_type": "display_data"
    }
   ],
   "source": [
    "from sklearn.cluster import KMeans\n",
    "from sklearn import metrics\n",
    "from scipy.spatial.distance import cdist\n",
    "\n",
    "\n",
    "list_inertia = []\n",
    "\n",
    "for i in range(2, 11):\n",
    "    \n",
    "    model=KMeans(n_clusters=i, random_state=42)\n",
    "    model.fit(df_merged_students[[\"gender_int\", \"color_int\", \"reading_int\", \"hobby_int\", \"language_int\", \"introverted_int\", \"siblings\", \"city_int\"]])\n",
    "    \n",
    "    list_inertia.append(model.inertia_)\n",
    "\n",
    "plt.plot(range(2,11), list_inertia, 'o--')\n",
    "plt.xlabel('number of clusters')\n",
    "plt.ylabel('Sum of Squared Distances')\n",
    "\n",
    "# maybe the number of clusters should always be twice the number of schools, \n",
    "# so we get one group of boys and one of girls for each school?"
   ]
  },
  {
   "cell_type": "code",
   "execution_count": 76,
   "id": "b054ccf2",
   "metadata": {},
   "outputs": [],
   "source": [
    "#kmeans = cluster.KMeans(n_clusters = 10, init = \"k-means++\", random_state = 42)\n",
    "#kmeans = kmeans.fit(df_merged_students[[\"gender_int\", \"color_int\", \"reading_int\", \"hobby_int\", \"language_int\", \n",
    "#\"introverted_int\", \"siblings\", \"city_int\"]])\n",
    "#kmeans.cluster_centers_\n",
    "\n",
    "from sklearn.preprocessing import StandardScaler\n",
    "from sklearn.pipeline import make_pipeline\n",
    "\n",
    "scaler = StandardScaler()\n",
    "\n",
    "k = 10\n",
    "kmeans = KMeans(n_clusters=k)\n",
    "\n",
    "pipeline = make_pipeline(scaler,kmeans)\n",
    "pipeline.fit(df_merged_students[[\"gender_int\", \"color_int\", \"reading_int\", \"hobby_int\", \"language_int\",\n",
    "                                 \"introverted_int\", \"siblings\", \"city_int\"]])\n",
    "\n",
    "labels = pipeline.predict(df_merged_students[[\"gender_int\", \"color_int\", \"reading_int\", \"hobby_int\", \"language_int\", \n",
    "                                              \"introverted_int\", \"siblings\", \"city_int\"]])\n",
    "\n"
   ]
  },
  {
   "cell_type": "code",
   "execution_count": 78,
   "id": "2a3184ef",
   "metadata": {},
   "outputs": [
    {
     "data": {
      "text/html": [
       "<div>\n",
       "<style scoped>\n",
       "    .dataframe tbody tr th:only-of-type {\n",
       "        vertical-align: middle;\n",
       "    }\n",
       "\n",
       "    .dataframe tbody tr th {\n",
       "        vertical-align: top;\n",
       "    }\n",
       "\n",
       "    .dataframe thead th {\n",
       "        text-align: right;\n",
       "    }\n",
       "</style>\n",
       "<table border=\"1\" class=\"dataframe\">\n",
       "  <thead>\n",
       "    <tr style=\"text-align: right;\">\n",
       "      <th></th>\n",
       "      <th>id</th>\n",
       "      <th>number_students</th>\n",
       "      <th>gender_int</th>\n",
       "      <th>color_int</th>\n",
       "      <th>reading_int</th>\n",
       "      <th>hobby_int</th>\n",
       "      <th>language_int</th>\n",
       "      <th>introverted_int</th>\n",
       "      <th>siblings</th>\n",
       "      <th>city_int</th>\n",
       "      <th>clusters</th>\n",
       "    </tr>\n",
       "  </thead>\n",
       "  <tbody>\n",
       "    <tr>\n",
       "      <th>0</th>\n",
       "      <td>(224, 2, 3, 36, 262, 268, 51, 220, 94)</td>\n",
       "      <td>9</td>\n",
       "      <td>0.0</td>\n",
       "      <td>3.0</td>\n",
       "      <td>1.8</td>\n",
       "      <td>1.3</td>\n",
       "      <td>1.9</td>\n",
       "      <td>0.2</td>\n",
       "      <td>1.9</td>\n",
       "      <td>2.0</td>\n",
       "      <td>7</td>\n",
       "    </tr>\n",
       "    <tr>\n",
       "      <th>1</th>\n",
       "      <td>(64, 99, 163, 299, 81, 242, 145, 187, 126)</td>\n",
       "      <td>9</td>\n",
       "      <td>1.0</td>\n",
       "      <td>2.3</td>\n",
       "      <td>1.7</td>\n",
       "      <td>2.2</td>\n",
       "      <td>2.3</td>\n",
       "      <td>0.4</td>\n",
       "      <td>1.8</td>\n",
       "      <td>4.0</td>\n",
       "      <td>2</td>\n",
       "    </tr>\n",
       "    <tr>\n",
       "      <th>2</th>\n",
       "      <td>(129, 130, 171, 12, 245, 22, 87, 92)</td>\n",
       "      <td>8</td>\n",
       "      <td>1.0</td>\n",
       "      <td>2.6</td>\n",
       "      <td>1.2</td>\n",
       "      <td>1.5</td>\n",
       "      <td>1.8</td>\n",
       "      <td>0.4</td>\n",
       "      <td>2.4</td>\n",
       "      <td>0.0</td>\n",
       "      <td>4</td>\n",
       "    </tr>\n",
       "    <tr>\n",
       "      <th>3</th>\n",
       "      <td>(33, 205, 13, 46, 152, 217, 154, 62)</td>\n",
       "      <td>8</td>\n",
       "      <td>1.0</td>\n",
       "      <td>2.6</td>\n",
       "      <td>1.2</td>\n",
       "      <td>2.1</td>\n",
       "      <td>2.8</td>\n",
       "      <td>0.8</td>\n",
       "      <td>2.5</td>\n",
       "      <td>0.0</td>\n",
       "      <td>3</td>\n",
       "    </tr>\n",
       "    <tr>\n",
       "      <th>4</th>\n",
       "      <td>(39, 11, 76, 174, 143, 210, 119, 122)</td>\n",
       "      <td>8</td>\n",
       "      <td>1.0</td>\n",
       "      <td>2.1</td>\n",
       "      <td>1.8</td>\n",
       "      <td>2.6</td>\n",
       "      <td>2.4</td>\n",
       "      <td>0.6</td>\n",
       "      <td>2.2</td>\n",
       "      <td>0.0</td>\n",
       "      <td>3</td>\n",
       "    </tr>\n",
       "  </tbody>\n",
       "</table>\n",
       "</div>"
      ],
      "text/plain": [
       "                                           id  number_students  gender_int  \\\n",
       "0      (224, 2, 3, 36, 262, 268, 51, 220, 94)                9         0.0   \n",
       "1  (64, 99, 163, 299, 81, 242, 145, 187, 126)                9         1.0   \n",
       "2        (129, 130, 171, 12, 245, 22, 87, 92)                8         1.0   \n",
       "3        (33, 205, 13, 46, 152, 217, 154, 62)                8         1.0   \n",
       "4       (39, 11, 76, 174, 143, 210, 119, 122)                8         1.0   \n",
       "\n",
       "   color_int  reading_int  hobby_int  language_int  introverted_int  siblings  \\\n",
       "0        3.0          1.8        1.3           1.9              0.2       1.9   \n",
       "1        2.3          1.7        2.2           2.3              0.4       1.8   \n",
       "2        2.6          1.2        1.5           1.8              0.4       2.4   \n",
       "3        2.6          1.2        2.1           2.8              0.8       2.5   \n",
       "4        2.1          1.8        2.6           2.4              0.6       2.2   \n",
       "\n",
       "   city_int  clusters  \n",
       "0       2.0         7  \n",
       "1       4.0         2  \n",
       "2       0.0         4  \n",
       "3       0.0         3  \n",
       "4       0.0         3  "
      ]
     },
     "execution_count": 78,
     "metadata": {},
     "output_type": "execute_result"
    }
   ],
   "source": [
    "df_merged_students[\"clusters\"] = kmeans.labels_\n",
    "df_merged_students.head()"
   ]
  },
  {
   "cell_type": "code",
   "execution_count": 55,
   "id": "c5ee2cbe",
   "metadata": {},
   "outputs": [],
   "source": [
    "#sns.scatterplot(data = df_merged_students, x = \"Gender\", y = \"District\", hue = \"Clusters\", palette = \"Set2\")"
   ]
  },
  {
   "cell_type": "code",
   "execution_count": 92,
   "id": "c0c4566e",
   "metadata": {},
   "outputs": [
    {
     "data": {
      "text/html": [
       "<div>\n",
       "<style scoped>\n",
       "    .dataframe tbody tr th:only-of-type {\n",
       "        vertical-align: middle;\n",
       "    }\n",
       "\n",
       "    .dataframe tbody tr th {\n",
       "        vertical-align: top;\n",
       "    }\n",
       "\n",
       "    .dataframe thead th {\n",
       "        text-align: right;\n",
       "    }\n",
       "</style>\n",
       "<table border=\"1\" class=\"dataframe\">\n",
       "  <thead>\n",
       "    <tr style=\"text-align: right;\">\n",
       "      <th></th>\n",
       "      <th>id</th>\n",
       "      <th>number_students</th>\n",
       "      <th>gender_int</th>\n",
       "      <th>color_int</th>\n",
       "      <th>reading_int</th>\n",
       "      <th>hobby_int</th>\n",
       "      <th>language_int</th>\n",
       "      <th>introverted_int</th>\n",
       "      <th>siblings</th>\n",
       "      <th>city_int</th>\n",
       "      <th>clusters</th>\n",
       "    </tr>\n",
       "  </thead>\n",
       "  <tbody>\n",
       "    <tr>\n",
       "      <th>0</th>\n",
       "      <td>(224, 2, 3, 36, 262, 268, 51, 220, 94)</td>\n",
       "      <td>9</td>\n",
       "      <td>0.0</td>\n",
       "      <td>3.0</td>\n",
       "      <td>1.8</td>\n",
       "      <td>1.3</td>\n",
       "      <td>1.9</td>\n",
       "      <td>0.2</td>\n",
       "      <td>1.9</td>\n",
       "      <td>2.0</td>\n",
       "      <td>7</td>\n",
       "    </tr>\n",
       "    <tr>\n",
       "      <th>8</th>\n",
       "      <td>(256, 194, 131, 290, 120, 138, 298, 285)</td>\n",
       "      <td>8</td>\n",
       "      <td>0.0</td>\n",
       "      <td>2.2</td>\n",
       "      <td>2.0</td>\n",
       "      <td>1.1</td>\n",
       "      <td>2.8</td>\n",
       "      <td>0.4</td>\n",
       "      <td>1.8</td>\n",
       "      <td>2.0</td>\n",
       "      <td>7</td>\n",
       "    </tr>\n",
       "    <tr>\n",
       "      <th>11</th>\n",
       "      <td>(195, 228, 134, 295, 27, 157, 191)</td>\n",
       "      <td>7</td>\n",
       "      <td>0.0</td>\n",
       "      <td>1.0</td>\n",
       "      <td>1.7</td>\n",
       "      <td>1.3</td>\n",
       "      <td>2.1</td>\n",
       "      <td>0.3</td>\n",
       "      <td>2.4</td>\n",
       "      <td>0.0</td>\n",
       "      <td>7</td>\n",
       "    </tr>\n",
       "    <tr>\n",
       "      <th>13</th>\n",
       "      <td>(257, 273, 165, 6, 151, 202, 29)</td>\n",
       "      <td>7</td>\n",
       "      <td>0.0</td>\n",
       "      <td>2.9</td>\n",
       "      <td>1.7</td>\n",
       "      <td>1.3</td>\n",
       "      <td>2.3</td>\n",
       "      <td>0.3</td>\n",
       "      <td>2.0</td>\n",
       "      <td>0.0</td>\n",
       "      <td>7</td>\n",
       "    </tr>\n",
       "    <tr>\n",
       "      <th>18</th>\n",
       "      <td>(16, 225, 176, 182, 230, 221, 254)</td>\n",
       "      <td>7</td>\n",
       "      <td>0.0</td>\n",
       "      <td>2.6</td>\n",
       "      <td>1.9</td>\n",
       "      <td>1.6</td>\n",
       "      <td>3.0</td>\n",
       "      <td>0.6</td>\n",
       "      <td>1.4</td>\n",
       "      <td>3.0</td>\n",
       "      <td>7</td>\n",
       "    </tr>\n",
       "    <tr>\n",
       "      <th>35</th>\n",
       "      <td>(272, 20, 53, 233, 173)</td>\n",
       "      <td>5</td>\n",
       "      <td>0.0</td>\n",
       "      <td>3.0</td>\n",
       "      <td>1.8</td>\n",
       "      <td>0.8</td>\n",
       "      <td>2.8</td>\n",
       "      <td>0.2</td>\n",
       "      <td>1.0</td>\n",
       "      <td>1.0</td>\n",
       "      <td>7</td>\n",
       "    </tr>\n",
       "  </tbody>\n",
       "</table>\n",
       "</div>"
      ],
      "text/plain": [
       "                                          id  number_students  gender_int  \\\n",
       "0     (224, 2, 3, 36, 262, 268, 51, 220, 94)                9         0.0   \n",
       "8   (256, 194, 131, 290, 120, 138, 298, 285)                8         0.0   \n",
       "11        (195, 228, 134, 295, 27, 157, 191)                7         0.0   \n",
       "13          (257, 273, 165, 6, 151, 202, 29)                7         0.0   \n",
       "18        (16, 225, 176, 182, 230, 221, 254)                7         0.0   \n",
       "35                   (272, 20, 53, 233, 173)                5         0.0   \n",
       "\n",
       "    color_int  reading_int  hobby_int  language_int  introverted_int  \\\n",
       "0         3.0          1.8        1.3           1.9              0.2   \n",
       "8         2.2          2.0        1.1           2.8              0.4   \n",
       "11        1.0          1.7        1.3           2.1              0.3   \n",
       "13        2.9          1.7        1.3           2.3              0.3   \n",
       "18        2.6          1.9        1.6           3.0              0.6   \n",
       "35        3.0          1.8        0.8           2.8              0.2   \n",
       "\n",
       "    siblings  city_int  clusters  \n",
       "0        1.9       2.0         7  \n",
       "8        1.8       2.0         7  \n",
       "11       2.4       0.0         7  \n",
       "13       2.0       0.0         7  \n",
       "18       1.4       3.0         7  \n",
       "35       1.0       1.0         7  "
      ]
     },
     "execution_count": 92,
     "metadata": {},
     "output_type": "execute_result"
    }
   ],
   "source": [
    "#from functools import reduce\n",
    "\n",
    "def create_clustered_dataframes(df):\n",
    "    dataframes = []\n",
    "    for i in df.clusters.unique():\n",
    "        temporary_df = df[df[\"clusters\"] == i]\n",
    "        dataframes.append(temporary_df)\n",
    "    return dataframes\n",
    "\n",
    "list_df_clustered_students = create_clustered_dataframes(df_merged_students)\n",
    "list_df_clustered_students[0]"
   ]
  },
  {
   "cell_type": "code",
   "execution_count": 29,
   "id": "3e307fe2",
   "metadata": {},
   "outputs": [
    {
     "name": "stdout",
     "output_type": "stream",
     "text": [
      "[{'c': 11}, {'a': 10}, {'b': 10}, {'f': 7, 'e': 2, 'd': 1}]\n"
     ]
    }
   ],
   "source": [
    "import binpacking\n",
    "\n",
    "b = {'a':10, 'b':10, 'c':11, 'd':1, 'e':2,'f':7}\n",
    "bins = binpacking.to_constant_bin_number(b,4) # 4 being the bin number\n",
    "print(bins)"
   ]
  },
  {
   "cell_type": "code",
   "execution_count": 30,
   "id": "6aeb2641",
   "metadata": {},
   "outputs": [
    {
     "name": "stdout",
     "output_type": "stream",
     "text": [
      "[[11], [10, 1], [10], [7, 2]]\n"
     ]
    }
   ],
   "source": [
    "b = list(b.values())\n",
    "bins = binpacking.to_constant_volume(b,11) # 11 being the bin volume\n",
    "print(bins)"
   ]
  },
  {
   "cell_type": "code",
   "execution_count": null,
   "id": "61c1903c",
   "metadata": {},
   "outputs": [],
   "source": []
  },
  {
   "cell_type": "code",
   "execution_count": null,
   "id": "5f81105a",
   "metadata": {},
   "outputs": [],
   "source": []
  }
 ],
 "metadata": {
  "kernelspec": {
   "display_name": "Python 3",
   "language": "python",
   "name": "python3"
  },
  "language_info": {
   "codemirror_mode": {
    "name": "ipython",
    "version": 3
   },
   "file_extension": ".py",
   "mimetype": "text/x-python",
   "name": "python",
   "nbconvert_exporter": "python",
   "pygments_lexer": "ipython3",
   "version": "3.8.8"
  }
 },
 "nbformat": 4,
 "nbformat_minor": 5
}
