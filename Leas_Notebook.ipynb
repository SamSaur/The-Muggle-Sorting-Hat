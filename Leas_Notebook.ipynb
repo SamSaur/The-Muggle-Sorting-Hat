{
 "cells": [
  {
   "cell_type": "markdown",
   "id": "d09a5ef3",
   "metadata": {},
   "source": [
    "# K-means clustering with digits dataset"
   ]
  },
  {
   "cell_type": "markdown",
   "id": "b3b4746f",
   "metadata": {},
   "source": [
    "## Loading digits dataset"
   ]
  },
  {
   "cell_type": "code",
   "execution_count": 1,
   "id": "4462768e",
   "metadata": {},
   "outputs": [
    {
     "name": "stdout",
     "output_type": "stream",
     "text": [
      "Digits: 1797 samples 64 features\n"
     ]
    }
   ],
   "source": [
    "from sklearn.datasets import load_digits\n",
    "\n",
    "digits = load_digits()\n",
    "print(\"Digits: %i samples %i features\" % digits.data.shape)"
   ]
  },
  {
   "cell_type": "markdown",
   "id": "5ed25076",
   "metadata": {},
   "source": [
    "## Exploratory data analysis"
   ]
  },
  {
   "cell_type": "code",
   "execution_count": 3,
   "id": "eebdbcf2",
   "metadata": {},
   "outputs": [],
   "source": [
    "import pandas as pd\n",
    "import numpy as np\n",
    "import matplotlib.pyplot as plt\n",
    "plt.style.use('ggplot')\n",
    "\n",
    "#print(digits.target_names)\n",
    "\n",
    "X = digits.data\n",
    "y = digits.target\n",
    "df = pd.DataFrame(X, columns = digits.feature_names)\n",
    "#print(df.head())\n",
    "\n",
    "#pd.plotting.scatter_matrix(df, c = y, figsize = [8, 8], s = 150, marker = 'D')"
   ]
  },
  {
   "cell_type": "code",
   "execution_count": null,
   "id": "0b4ee3b4",
   "metadata": {},
   "outputs": [],
   "source": []
  }
 ],
 "metadata": {
  "kernelspec": {
   "display_name": "Python 3",
   "language": "python",
   "name": "python3"
  },
  "language_info": {
   "codemirror_mode": {
    "name": "ipython",
    "version": 3
   },
   "file_extension": ".py",
   "mimetype": "text/x-python",
   "name": "python",
   "nbconvert_exporter": "python",
   "pygments_lexer": "ipython3",
   "version": "3.8.8"
  }
 },
 "nbformat": 4,
 "nbformat_minor": 5
}
